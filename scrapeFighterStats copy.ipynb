{
 "cells": [
  {
   "cell_type": "code",
   "execution_count": 1,
   "metadata": {},
   "outputs": [],
   "source": [
    "#imports\n",
    "import requests\n",
    "from bs4 import BeautifulSoup\n",
    "import re\n",
    "import pandas as pd\n",
    "import numpy\n",
    "import math\n",
    "import csv\n",
    "import unidecode\n",
    "from unidecode import unidecode\n",
    "from csv import writer\n"
   ]
  },
  {
   "cell_type": "code",
   "execution_count": 2,
   "metadata": {},
   "outputs": [],
   "source": [
    "#parse site using alphabet\n",
    "alphabet = ['a','b','c','d','e','f','g','h','i','j','k','l','m','n','o','p','q','r','s','t','u','v','w','x','y','z']\n",
    "for i in range(len(alphabet)):\n",
    "    url=f'http://ufcstats.com/statistics/fighters?char={'x'}&page=all'\n",
    "    headers = {'User-Agent': \"Mozilla/5.0 (Windows NT 10.0; Win64; x64) AppleWebKit/537.36 (KHTML, like Gecko) Chrome/42.0.2311.135 Safari/537.36 Edge/12.246\"}"
   ]
  },
  {
   "cell_type": "code",
   "execution_count": 3,
   "metadata": {},
   "outputs": [],
   "source": [
    "#site request\n",
    "site = requests.get(url, headers=headers)\n",
    "soup = BeautifulSoup(site.content, 'html.parser')"
   ]
  },
  {
   "cell_type": "code",
   "execution_count": 4,
   "metadata": {},
   "outputs": [],
   "source": [
    "#scrape fighters from each page\n",
    "fighterLinks = []\n",
    "fighter_links = soup.find_all('a', class_=re.compile(\"b-link b-link_style_black\"))"
   ]
  },
  {
   "cell_type": "code",
   "execution_count": 5,
   "metadata": {},
   "outputs": [
    {
     "name": "stdout",
     "output_type": "stream",
     "text": [
      "['http://ufcstats.com/fighter-details/e6dac752a2418a88', 'http://ufcstats.com/fighter-details/e6dac752a2418a88', 'http://ufcstats.com/fighter-details/e6dac752a2418a88', 'http://ufcstats.com/fighter-details/86bace9e4ad85542', 'http://ufcstats.com/fighter-details/86bace9e4ad85542', 'http://ufcstats.com/fighter-details/86bace9e4ad85542', 'http://ufcstats.com/fighter-details/e415ea6f8d41c917', 'http://ufcstats.com/fighter-details/e415ea6f8d41c917', 'http://ufcstats.com/fighter-details/e415ea6f8d41c917']\n",
      "Links found 9\n"
     ]
    }
   ],
   "source": [
    "#find hrefs\n",
    "for link in fighter_links:\n",
    "    href = link['href']\n",
    "    if href:\n",
    "        fighterLinks.append(href)\n",
    "print(fighterLinks)\n",
    "print(f'Links found {len(fighterLinks)}')"
   ]
  },
  {
   "cell_type": "code",
   "execution_count": 6,
   "metadata": {},
   "outputs": [
    {
     "name": "stdout",
     "output_type": "stream",
     "text": [
      "['http://ufcstats.com/fighter-details/86bace9e4ad85542', 'http://ufcstats.com/fighter-details/e6dac752a2418a88', 'http://ufcstats.com/fighter-details/e415ea6f8d41c917']\n",
      "Links found 3\n"
     ]
    }
   ],
   "source": [
    "#remove link dups\n",
    "fighterLinks = list(set(fighterLinks))\n",
    "print(fighterLinks)\n",
    "print(f'Links found {len(fighterLinks)}')\n"
   ]
  },
  {
   "cell_type": "code",
   "execution_count": 43,
   "metadata": {},
   "outputs": [
    {
     "ename": "IndentationError",
     "evalue": "unindent does not match any outer indentation level (<string>, line 49)",
     "output_type": "error",
     "traceback": [
      "\u001b[0;36m  File \u001b[0;32m<string>:49\u001b[0;36m\u001b[0m\n\u001b[0;31m    '''height = tempRest[0].text.strip()\u001b[0m\n\u001b[0m                                        ^\u001b[0m\n\u001b[0;31mIndentationError\u001b[0m\u001b[0;31m:\u001b[0m unindent does not match any outer indentation level\n"
     ]
    }
   ],
   "source": [
    "#scrape individual fighter stats\n",
    "fighters_statistics = []\n",
    "for i in range(1):\n",
    "    site = requests.get(fighterLinks[i], headers=headers)\n",
    "    soup = BeautifulSoup(site.content, 'html.parser')\n",
    "\n",
    "    #initialize stats\n",
    "    name = None\n",
    "    wins = None\n",
    "    losses = None\n",
    "    draws = None\n",
    "    height = None\n",
    "    weight = None\n",
    "    reach = None\n",
    "    stance = None\n",
    "    dOB = None\n",
    "    sig_strikes_landed_per_min = None\n",
    "    sig_striking_accuracy = None\n",
    "    sig_strike_absorbed_per_min = None\n",
    "    sig_strike_defense = None\n",
    "    takedown_average = None\n",
    "    takedown_accuracy = None\n",
    "    takedown_defense = None\n",
    "    sub_average = None\n",
    "\n",
    "    #scrape name\n",
    "    tempName = soup.find_all('span', class_=re.compile(\"b-content__title-highlight\"))\n",
    "    #clean name\n",
    "    name = tempName[0].text.strip()\n",
    "\n",
    "    #scrape records\n",
    "    tempRecord = soup.find_all('span', class_=re.compile('b-content__title-record'))\n",
    "    #clean wins + losses + draws\n",
    "    record = tempRecord[0].text.strip()\n",
    "    listRecord = list(record)\n",
    "    wins = listRecord[8]\n",
    "    losses = listRecord[10]\n",
    "    draws = listRecord[12]\n",
    "    \n",
    "    #clean soup for rest of stats\n",
    "    i_tags = soup.find_all('i')\n",
    "    for itags in i_tags:\n",
    "        itags.decompose()\n",
    "    \n",
    "    #clean stats\n",
    "    tempRest = soup.find_all('li', class_=re.compile('b-list__box-list-item b-list__box-list-item_type_block'))\n",
    "   \n",
    "   \n",
    "    #height = tempRest[0].text.strip()\n",
    "    #print(height)\n",
    "    #weight = tempRest[1].text.strip()\n",
    "    #print(weight)\n",
    "    #reach = tempRest[2].text.strip()\n",
    "    #print(reach)\n",
    "    #stance = tempRest[3].text.strip()\n",
    "    #print(stance)\n",
    "    #dOB = tempRest[4].text.strip()\n",
    "    #print(dOB)\n",
    "    #sig_strikes_landed_per_min = tempRest[5].text.strip()\n",
    "    #print(sig_strikes_landed_per_min)\n",
    "\n",
    "    #sig_striking_accuracy = tempRest[6].text.strip()\n",
    "    #print(sig_striking_accuracy)\n",
    "\n",
    "    #sig_strike_absorbed_per_min = tempRest[7].text.strip()\n",
    "    #print(sig_strike_absorbed_per_min)\n",
    "    #sig_strike_defense = tempRest[8].text.strip()\n",
    "    #print(sig_strike_defense)\n",
    "    #takedown_average = tempRest[9].text.strip()\n",
    "    #print(takedown_average)\n",
    "    #takedown_accuracy = tempRest[10].text.strip()\n",
    "    #print(takedown_accuracy)\n",
    "    #takedown_defense = tempRest[11].text.strip()\n",
    "    #print(takedown_defense)\n",
    "    #sub_average = tempRest[12].text.strip()\n",
    "    #print(sub_average)\n",
    "\n",
    "\n",
    "    \n",
    "\n",
    "\n",
    "\n",
    "\n",
    "    \n",
    "\n",
    "\n",
    "    \n",
    "\n",
    "    \n",
    "\n",
    "\n",
    "\n",
    "\n",
    "    "
   ]
  }
 ],
 "metadata": {
  "kernelspec": {
   "display_name": ".venv",
   "language": "python",
   "name": "python3"
  },
  "language_info": {
   "codemirror_mode": {
    "name": "ipython",
    "version": 3
   },
   "file_extension": ".py",
   "mimetype": "text/x-python",
   "name": "python",
   "nbconvert_exporter": "python",
   "pygments_lexer": "ipython3",
   "version": "3.12.0"
  }
 },
 "nbformat": 4,
 "nbformat_minor": 2
}
